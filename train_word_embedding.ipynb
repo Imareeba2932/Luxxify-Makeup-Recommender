{
 "cells": [
  {
   "cell_type": "code",
   "execution_count": 6,
   "id": "890f47e3-414e-42a1-b371-85358cfe5524",
   "metadata": {},
   "outputs": [],
   "source": [
    "from gensim.models import KeyedVectors\n",
    "\n",
    "# Load the KeyedVectors model\n",
    "model = KeyedVectors.load('word2vec-google-news-300.model', mmap='r')"
   ]
  },
  {
   "cell_type": "code",
   "execution_count": null,
   "id": "32780571-0757-47bd-8258-d980f4b5ca4e",
   "metadata": {},
   "outputs": [],
   "source": [
    "def find_similar_words(word, top_n=10):\n",
    "    try:\n",
    "        return model.most_similar(word, topn=top_n)\n",
    "    except KeyError:\n",
    "        return f\"Word '{word}' not in vocabulary.\"\n",
    "\n",
    "# Find the most common words similar to \"blendable\"\n",
    "similar_words = find_similar_words('blendable')\n",
    "print(similar_words)"
   ]
  },
  {
   "cell_type": "code",
   "execution_count": null,
   "id": "ea05fc4d-e848-4f0e-b70a-13b951afa506",
   "metadata": {},
   "outputs": [],
   "source": []
  }
 ],
 "metadata": {
  "kernelspec": {
   "display_name": "Python 3 (ipykernel)",
   "language": "python",
   "name": "python3"
  },
  "language_info": {
   "codemirror_mode": {
    "name": "ipython",
    "version": 3
   },
   "file_extension": ".py",
   "mimetype": "text/x-python",
   "name": "python",
   "nbconvert_exporter": "python",
   "pygments_lexer": "ipython3",
   "version": "3.12.2"
  }
 },
 "nbformat": 4,
 "nbformat_minor": 5
}
