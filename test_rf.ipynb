{
 "cells": [
  {
   "cell_type": "code",
   "execution_count": 1,
   "id": "d77f81aa-63be-41dc-9ec2-8f98a570733e",
   "metadata": {},
   "outputs": [],
   "source": [
    "import pandas as pd\n",
    "import pickle\n",
    "import psycopg2\n",
    "from sklearn.preprocessing import LabelEncoder\n",
    "from sklearn.preprocessing import MinMaxScaler\n",
    "from sklearn.ensemble import RandomForestClassifier\n",
    "from sklearn.model_selection import train_test_split\n",
    "from sklearn.metrics import confusion_matrix, classification_report\n",
    "from sklearn.metrics import accuracy_score\n",
    "from sklearn.pipeline import Pipeline\n",
    "import matplotlib.pyplot as plt\n",
    "import matplotlib\n",
    "import numpy as np\n",
    "import seaborn as sns\n",
    "matplotlib.use('TkAgg')"
   ]
  },
  {
   "cell_type": "code",
   "execution_count": 2,
   "id": "6ae300ab-1188-4d8e-baf3-529c9ad40dac",
   "metadata": {},
   "outputs": [
    {
     "name": "stdout",
     "output_type": "stream",
     "text": [
      "DONE\n"
     ]
    }
   ],
   "source": [
    "# Load the model\n",
    "with open('random_forest_model.pkl', 'rb') as file:\n",
    "    model = pickle.load(file)\n",
    "print('DONE')"
   ]
  },
  {
   "cell_type": "code",
   "execution_count": 3,
   "id": "2d92d58d-a145-4ca1-a1ae-4776d271179c",
   "metadata": {},
   "outputs": [
    {
     "name": "stdout",
     "output_type": "stream",
     "text": [
      "Index(['young', 'mother', 'professional', 'vibe', 'acne', 'dry', 'wrinkles',\n",
      "       'poc', 'white', 'tan', 'redness', 'coverage', 'light_coverage',\n",
      "       'medium_coverage', 'full_coverage', 'expensive', 'inexpensive',\n",
      "       'skin_concerns', 'comfortable_wear', 'easy_use', 'pilling',\n",
      "       'shade_range', 'category', 'num_shades', 'num_reviews'],\n",
      "      dtype='object')\n"
     ]
    }
   ],
   "source": [
    "\n",
    "user_profile = {\n",
    "    'professional_review':1, \n",
    "    'vibe_review': 0, \n",
    "    'redness_review': 0, \n",
    "    'dry_review': 0, \n",
    "    'light_coverage_review': 0, \n",
    "    'young_review': 1, \n",
    "    'mother_review': 0, \n",
    "    'skin_concerns_review': 0, \n",
    "    'white_review': 1, \n",
    "    'tan_review': 1, \n",
    "    'acne_review': 0,\n",
    "    'poc_review': 0, \n",
    "    'comfortable_wear_review': 0, \n",
    "    'coverage_review': 0, \n",
    "    'medium_coverage_review': 0, \n",
    "    'full_coverage_review': 1, \n",
    "    'easy_use_review': 0, \n",
    "    'wrinkles_review': 0\n",
    "}\n",
    "product_data = pd.read_csv('product_embeddings.csv')\n",
    "product_copy = product_data.copy()\n",
    "product_copy = product_copy.drop(columns = ['product_link_id', 'overall_product_rating'])\n",
    "le = LabelEncoder()\n",
    "product_copy['category'] = le.fit_transform(product_copy['category'])\n",
    "\n",
    "print(product_copy.columns)\n",
    "\n",
    "\n",
    "\n",
    "\n"
   ]
  },
  {
   "cell_type": "code",
   "execution_count": 4,
   "id": "c1002e59-f9b8-419a-8ac7-5438edd47ca0",
   "metadata": {},
   "outputs": [],
   "source": [
    "for col, val in user_profile.items(): \n",
    "    product_copy[col] = user_profile[col]\n",
    "\n"
   ]
  },
  {
   "cell_type": "code",
   "execution_count": 5,
   "id": "42e62c88-484a-43da-94bb-f088c5b31881",
   "metadata": {},
   "outputs": [
    {
     "name": "stdout",
     "output_type": "stream",
     "text": [
      "      young    mother  professional      vibe      acne       dry  wrinkles  \\\n",
      "0  0.684078  0.821281      0.835244  0.693004  4.840942  0.953626  0.743352   \n",
      "\n",
      "        poc     white       tan  ...  white_review  tan_review  acne_review  \\\n",
      "0  0.938023  0.951343  0.924662  ...             1           1            0   \n",
      "\n",
      "   poc_review  comfortable_wear_review  coverage_review  \\\n",
      "0           0                        0                0   \n",
      "\n",
      "   medium_coverage_review  full_coverage_review  easy_use_review  \\\n",
      "0                       0                     1                0   \n",
      "\n",
      "   wrinkles_review  \n",
      "0                0  \n",
      "\n",
      "[1 rows x 43 columns]\n"
     ]
    }
   ],
   "source": [
    "print(product_copy.head(1))"
   ]
  },
  {
   "cell_type": "code",
   "execution_count": 6,
   "id": "9eee6a54-8fd6-4b7f-b9d2-cf22218f9df5",
   "metadata": {},
   "outputs": [
    {
     "name": "stdout",
     "output_type": "stream",
     "text": [
      "[1 2 3 4 5]\n",
      "[0.14       0.11       0.17       0.23018315 0.34981685]\n",
      "      product_link_id  predicted_score\n",
      "387             406.0         0.570000\n",
      "389             408.0         0.570000\n",
      "184             197.0         0.484077\n",
      "187             200.0         0.477143\n",
      "294             311.0         0.473333\n",
      "1102           1179.0         0.471739\n",
      "2                 3.0         0.471739\n",
      "181             193.0         0.471739\n",
      "13               15.0         0.471538\n",
      "1282           1366.0         0.470000\n"
     ]
    },
    {
     "name": "stderr",
     "output_type": "stream",
     "text": [
      "[Parallel(n_jobs=16)]: Using backend ThreadingBackend with 16 concurrent workers.\n",
      "[Parallel(n_jobs=16)]: Done  18 tasks      | elapsed:    0.0s\n",
      "[Parallel(n_jobs=16)]: Done 100 out of 100 | elapsed:    0.1s finished\n"
     ]
    }
   ],
   "source": [
    "\n",
    "feature_names = model.feature_names_in_  # This assumes scikit-learn's RandomForest model\n",
    "print(model.classes_)\n",
    "# Reorder the DataFrame to match the model's expected feature order\n",
    "product_copy = product_copy[feature_names]\n",
    "predictions = model.predict_proba(product_copy)\n",
    "product_copy['predicted_score'] = predictions[:, 4]\n",
    "print(predictions[0, :])\n",
    "product_copy['product_link_id'] = product_data['product_link_id']\n",
    "top_products = product_copy.sort_values(by='predicted_score', ascending=False)\n",
    "# Output the top products\n",
    "top_n = 10  # Number of top products to display\n",
    "print(top_products[['product_link_id', 'predicted_score']].head(top_n))"
   ]
  },
  {
   "cell_type": "code",
   "execution_count": null,
   "id": "dee70b9c-8879-47d2-bd1e-37208f356218",
   "metadata": {},
   "outputs": [],
   "source": []
  }
 ],
 "metadata": {
  "kernelspec": {
   "display_name": "Python 3 (ipykernel)",
   "language": "python",
   "name": "python3"
  },
  "language_info": {
   "codemirror_mode": {
    "name": "ipython",
    "version": 3
   },
   "file_extension": ".py",
   "mimetype": "text/x-python",
   "name": "python",
   "nbconvert_exporter": "python",
   "pygments_lexer": "ipython3",
   "version": "3.12.2"
  }
 },
 "nbformat": 4,
 "nbformat_minor": 5
}
