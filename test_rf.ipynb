{
 "cells": [
  {
   "cell_type": "code",
   "execution_count": 1,
   "id": "d77f81aa-63be-41dc-9ec2-8f98a570733e",
   "metadata": {},
   "outputs": [],
   "source": [
    "import pandas as pd\n",
    "import pickle\n",
    "import psycopg2\n",
    "from sklearn.preprocessing import LabelEncoder\n",
    "from sklearn.preprocessing import MinMaxScaler\n",
    "from sklearn.ensemble import RandomForestClassifier\n",
    "from sklearn.model_selection import train_test_split\n",
    "from sklearn.metrics import confusion_matrix, classification_report\n",
    "from sklearn.metrics import accuracy_score\n",
    "from sklearn.pipeline import Pipeline\n",
    "import matplotlib.pyplot as plt\n",
    "import matplotlib\n",
    "import numpy as np\n",
    "import seaborn as sns\n",
    "matplotlib.use('TkAgg')"
   ]
  },
  {
   "cell_type": "code",
   "execution_count": 2,
   "id": "6ae300ab-1188-4d8e-baf3-529c9ad40dac",
   "metadata": {},
   "outputs": [
    {
     "name": "stdout",
     "output_type": "stream",
     "text": [
      "DONE\n"
     ]
    }
   ],
   "source": [
    "# Load the model\n",
    "with open('random_forest_model.pkl', 'rb') as file:\n",
    "    model = pickle.load(file)\n",
    "print('DONE')"
   ]
  },
  {
   "cell_type": "code",
   "execution_count": 3,
   "id": "2d92d58d-a145-4ca1-a1ae-4776d271179c",
   "metadata": {},
   "outputs": [
    {
     "name": "stdout",
     "output_type": "stream",
     "text": [
      "Index(['young', 'mother', 'professional', 'vibe', 'acne', 'dry', 'wrinkles',\n",
      "       'poc', 'white', 'tan', 'redness', 'coverage', 'light_coverage',\n",
      "       'medium_coverage', 'full_coverage', 'expensive', 'inexpensive',\n",
      "       'skin_concerns', 'comfortable_wear', 'easy_use', 'pilling',\n",
      "       'shade_range', 'category', 'num_shades', 'num_reviews'],\n",
      "      dtype='object')\n"
     ]
    }
   ],
   "source": [
    "\n",
    "user_profile = {\n",
    "    'professional_review':0, \n",
    "    'vibe_review': 1, \n",
    "    'redness_review': 1, \n",
    "    'dry_review': 1, \n",
    "    'light_coverage_review': 1, \n",
    "    'young_review': 0, \n",
    "    'mother_review': 0, \n",
    "    'skin_concerns_review': 1, \n",
    "    'white_review': 1, \n",
    "    'tan_review': 0, \n",
    "    'acne_review': 1,\n",
    "    'poc_review': 0, \n",
    "    'comfortable_wear_review': 1, \n",
    "    'coverage_review': 0, \n",
    "    'medium_coverage_review': 0, \n",
    "    'full_coverage_review': 0, \n",
    "    'easy_use_review': 1, \n",
    "    'wrinkles_review': 1\n",
    "}\n",
    "product_data = pd.read_csv('product_embeddings.csv')\n",
    "product_copy = product_data.copy()\n",
    "product_copy = product_copy.drop(columns = ['product_link_id', 'overall_product_rating'])\n",
    "le = LabelEncoder()\n",
    "product_copy['category'] = le.fit_transform(product_copy['category'])\n",
    "\n",
    "print(product_copy.columns)\n",
    "\n",
    "\n",
    "\n",
    "\n"
   ]
  },
  {
   "cell_type": "code",
   "execution_count": 4,
   "id": "c1002e59-f9b8-419a-8ac7-5438edd47ca0",
   "metadata": {},
   "outputs": [],
   "source": [
    "for col, val in user_profile.items(): \n",
    "    product_copy[col] = user_profile[col]\n",
    "\n"
   ]
  },
  {
   "cell_type": "code",
   "execution_count": 5,
   "id": "9eee6a54-8fd6-4b7f-b9d2-cf22218f9df5",
   "metadata": {},
   "outputs": [
    {
     "name": "stdout",
     "output_type": "stream",
     "text": [
      "[1 2 3 4 5]\n",
      "[0.21433333 0.22       0.21666667 0.13133333 0.21766667]\n",
      "      product_link_id  predicted_score\n",
      "227             241.0         3.583571\n",
      "233             247.0         3.583571\n",
      "1208           1290.0         3.583571\n",
      "1122           1199.0         3.583571\n",
      "1264           1348.0         3.583571\n",
      "296             314.0         3.583571\n",
      "1191           1271.0         3.573571\n",
      "357             376.0         3.563571\n",
      "974            1037.0         3.563571\n",
      "1200           1281.0         3.563571\n"
     ]
    },
    {
     "name": "stderr",
     "output_type": "stream",
     "text": [
      "[Parallel(n_jobs=16)]: Using backend ThreadingBackend with 16 concurrent workers.\n",
      "[Parallel(n_jobs=16)]: Done  18 tasks      | elapsed:    0.0s\n",
      "[Parallel(n_jobs=16)]: Done 100 out of 100 | elapsed:    0.0s finished\n"
     ]
    }
   ],
   "source": [
    "\n",
    "feature_names = model.feature_names_in_  # This assumes scikit-learn's RandomForest model\n",
    "print(model.classes_)\n",
    "# Reorder the DataFrame to match the model's expected feature order\n",
    "product_copy = product_copy[feature_names]\n",
    "predictions = model.predict_proba(product_copy)\n",
    "product_copy['predicted_score'] = predictions[:, 1] + 2* predictions[:, 1] + 3*predictions[:, 2] + 4*predictions[:, 3] + 5*predictions[:, 4]\n",
    "print(predictions[0, :])\n",
    "product_copy['product_link_id'] = product_data['product_link_id']\n",
    "top_products = product_copy.sort_values(by='predicted_score', ascending=False)\n",
    "# Output the top products\n",
    "top_n = 10  # Number of top products to display\n",
    "print(top_products[['product_link_id', 'predicted_score']].head(top_n))"
   ]
  },
  {
   "cell_type": "code",
   "execution_count": 11,
   "id": "5f81ee30-84ff-47c5-ab6e-f32721028194",
   "metadata": {},
   "outputs": [
    {
     "name": "stdout",
     "output_type": "stream",
     "text": [
      "Top products per category:\n",
      "\n",
      "Category: Foundation\n",
      "Product Link ID: 2.0\n",
      "Product Name: Face Bond Self-Setting Waterproof Foundation\n",
      "Predicted Score: 3.50\n",
      "Price: $40.00\n",
      "\n",
      "Category: Tinted Moisturizer\n",
      "Product Link ID: 241.0\n",
      "Product Name: Dew Skin Tinted Moisturizer\n",
      "Predicted Score: 3.58\n",
      "Price: $50.00\n",
      "\n",
      "Category: Blush\n",
      "Product Link ID: 679.0\n",
      "Product Name: Cloud Crush Blurring Blush\n",
      "Predicted Score: 3.54\n",
      "Price: $29.00\n",
      "\n",
      "Category: Concealer\n",
      "Product Link ID: 314.0\n",
      "Product Name: Care and Glow Hydrating Serum Concealer\n",
      "Predicted Score: 3.58\n",
      "Price: $29.00\n",
      "\n",
      "Category: Setting Spray & Powder\n",
      "Product Link ID: 1290.0\n",
      "Product Name: Light Reflecting Pressed Setting Powder\n",
      "Predicted Score: 3.58\n",
      "Price: $40.00\n"
     ]
    }
   ],
   "source": [
    "from scipy.optimize import linprog\n",
    "import numpy as np\n",
    "import pandas as pd\n",
    "\n",
    "df = pd.read_csv('cleaned_makeup_products.csv')\n",
    "budget = 50\n",
    "product_info = df[['product_link_id', 'product_name', 'brand', 'price', 'category']].copy()\n",
    "product_info.rename(columns={'category': 'category_name'}, inplace=True)\n",
    "\n",
    "# Merge data to include product prices and predicted scores\n",
    "product_budget = product_copy.copy()\n",
    "product_budget = pd.merge(product_budget, product_info, how='inner', on='product_link_id')\n",
    "\n",
    "\n",
    "product_budget['category_name'].fillna(value='Uncategorized', inplace=True)\n",
    "\n",
    "if user_profile['light_coverage_review'] == 1:\n",
    "    all_categories = ['Foundation', 'Tinted Moisturizer', 'Blush', 'Concealer', 'Setting Spray & Powder']\n",
    "elif user_profile['medium_coverage_review'] == 1:\n",
    "    all_categories = ['Foundation', 'Bronzer', 'Concealer', 'Blush', 'Setting Spray & Powder']\n",
    "else:\n",
    "    all_categories = product_budget['category_name'].unique()\n",
    "top_products_per_category = []\n",
    "\n",
    "for category in all_categories:\n",
    "    category_data = product_budget[product_budget['category_name'] == category]\n",
    "    if category_data.empty:\n",
    "        print(f\"No data for category: {category}\")\n",
    "        continue\n",
    "\n",
    "    prices = category_data['price'].values\n",
    "    scores = category_data['predicted_score'].values\n",
    "    product_link_ids = category_data['product_link_id'].values\n",
    "    names = category_data['product_name'].values\n",
    "\n",
    "    prices = np.array(prices)\n",
    "    scores = np.array(scores)\n",
    "    product_link_ids = np.array(product_link_ids)\n",
    "\n",
    "    if len(prices) == 0:\n",
    "        print(f\"No products found in category: {category}\")\n",
    "        continue\n",
    "\n",
    "    A_ub = np.eye(len(prices))  # Identity matrix to enforce per-product constraints\n",
    "    b_ub = np.ones(len(prices)) * budget   # Budget limits\n",
    "\n",
    "\n",
    "    # Objective function: maximize score and minimize price\n",
    "    c =  -scores\n",
    "\n",
    "    result = linprog(c, A_ub=A_ub, b_ub=b_ub, bounds=[(0, 1)] * len(prices), method='highs')\n",
    "\n",
    "    if result.success:\n",
    "        optimal_indices = np.where(result.x > 0.5)[0]\n",
    "        selected_products = [(product_link_ids[i], names[i], scores[i], prices[i]) for i in optimal_indices]\n",
    "        \n",
    "        # Sort products based on predicted scores in descending order\n",
    "        selected_products.sort(key=lambda x: x[2], reverse=True)\n",
    "    if selected_products:\n",
    "        idx = 0\n",
    "        top_product = selected_products[0]\n",
    "        if top_product[3] > budget: \n",
    "            idx+=1\n",
    "            top_product = selected_products[idx]\n",
    "    \n",
    "        top_products_per_category.append({\n",
    "            'category': category,\n",
    "            'product_link_id': top_product[0],\n",
    "            'product_name': top_product[1], \n",
    "            'score': top_product[2],\n",
    "            'price': top_product[3]\n",
    "        })\n",
    "        \n",
    "# Print results\n",
    "print(\"Top products per category:\")\n",
    "for category_info in top_products_per_category:\n",
    "    print(f\"\\nCategory: {category_info['category']}\")\n",
    "    print(f\"Product Link ID: {category_info['product_link_id']}\")\n",
    "    print(f\"Product Name: {category_info['product_name']}\")\n",
    "    print(f\"Predicted Score: {category_info['score']:.2f}\")\n",
    "    print(f\"Price: ${category_info['price']:.2f}\")"
   ]
  },
  {
   "cell_type": "code",
   "execution_count": null,
   "id": "0e652496-e5f5-4d2b-bd8d-14b46054f2cf",
   "metadata": {},
   "outputs": [],
   "source": []
  }
 ],
 "metadata": {
  "kernelspec": {
   "display_name": "Python 3 (ipykernel)",
   "language": "python",
   "name": "python3"
  },
  "language_info": {
   "codemirror_mode": {
    "name": "ipython",
    "version": 3
   },
   "file_extension": ".py",
   "mimetype": "text/x-python",
   "name": "python",
   "nbconvert_exporter": "python",
   "pygments_lexer": "ipython3",
   "version": "3.12.2"
  }
 },
 "nbformat": 4,
 "nbformat_minor": 5
}
